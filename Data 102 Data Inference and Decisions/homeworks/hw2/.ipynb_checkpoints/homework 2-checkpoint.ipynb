{
 "cells": [
  {
   "cell_type": "code",
   "execution_count": null,
   "id": "1b583b14-f9d9-4c10-af47-e5aa53a3aa03",
   "metadata": {},
   "outputs": [],
   "source": [
    "import matplotlib.pyplot as plt\n"
   ]
  },
  {
   "cell_type": "markdown",
   "id": "b6b4b6a8-3e1a-4910-b2eb-fdb1819bfa57",
   "metadata": {},
   "source": [
    "Question 1e) "
   ]
  },
  {
   "cell_type": "code",
   "execution_count": null,
   "id": "e6f97284-6dd6-41d5-850d-44f7ada54524",
   "metadata": {},
   "outputs": [],
   "source": [
    "## 1e) \n",
    "import numpy as np \n",
    "\n",
    "w = 15\n",
    "np.random.seed(10)\n",
    "\n",
    "y = np.random.uniform(low = 0, high = w , size = 100)\n",
    "days = np.linspace(1, 100, 100)"
   ]
  },
  {
   "cell_type": "code",
   "execution_count": null,
   "id": "671fe129-e214-42f8-bfb5-985314136857",
   "metadata": {},
   "outputs": [],
   "source": [
    "def paretopdf(alpha, beta, observed):\n",
    "    pdf = []\n",
    "    for i in observed:\n",
    "        if i < beta:\n",
    "            pdf.append(0)\n",
    "        else:\n",
    "            value = (alpha *(beta ** alpha))/ (i**(alpha + 1))\n",
    "            pdf.append(value)\n",
    "    return pdf"
   ]
  },
  {
   "cell_type": "code",
   "execution_count": null,
   "id": "dc9f4622-59b1-45e4-9e20-792a8806dcb0",
   "metadata": {},
   "outputs": [],
   "source": [
    "def paretopost(alpha, beta, observed, n):\n",
    "    if n <= 0:\n",
    "        return paretopdf(alpha, beta, days)\n",
    "    else: \n",
    "        a2 = alpha + n\n",
    "        w = max(observed[:n])\n",
    "        b2 = max(w, beta) \n",
    "        return paretopdf(a2, b2, days)\n",
    "    "
   ]
  },
  {
   "cell_type": "code",
   "execution_count": null,
   "id": "c846bef6-3114-4d6c-a315-700eeb756374",
   "metadata": {},
   "outputs": [],
   "source": [
    "day1 = paretopost(1, 10, y, 1)\n",
    "day10 = paretopost(1, 10, y, 10)\n",
    "day50 = paretopost(1, 10, y, 50)\n",
    "day100 = paretopost(1, 10, y, 100)\n"
   ]
  },
  {
   "cell_type": "code",
   "execution_count": null,
   "id": "2dabc871-1e05-41d2-a0cd-78f29876ab1c",
   "metadata": {},
   "outputs": [],
   "source": [
    "fig, ax = plt.subplots()\n",
    "\n",
    "line1, = ax.plot(days, day1, color = 'y', label = 'day 1')\n",
    "line2, = ax.plot(days, day10, color = 'b', label = 'day10')\n",
    "line3, = ax.plot(days, day50, color = 'g', label = 'day50')\n",
    "line4, = ax.plot(days, day100, color = 'r', label = 'day100')\n",
    "\n",
    "ax.legend(handles=[line1, line2, line3, line4])\n",
    "plt.xlim(0, 40)"
   ]
  },
  {
   "cell_type": "markdown",
   "id": "ac0b8afb-f238-4ada-bb3d-fd35e5df9fa6",
   "metadata": {},
   "source": [
    "Question 2c) "
   ]
  },
  {
   "cell_type": "code",
   "execution_count": null,
   "id": "172839a0-824c-4a5e-9b2a-7e7d27665824",
   "metadata": {},
   "outputs": [],
   "source": [
    "# 2c) \n",
    "\n",
    "import numpy as np\n",
    "np.random.seed(8)\n",
    "\n",
    "q0 = 0.05\n",
    "q1 = 0.18\n",
    "\n",
    "n1 = int(100*0.45)\n",
    "n0 = 100 - n1\n",
    "\n",
    "obs = []\n",
    "obs[:n0] = np.random.geometric(q0, size = n0)\n",
    "obs[n0:] = np.random.geometric(q1, size = n1)\n"
   ]
  },
  {
   "cell_type": "code",
   "execution_count": null,
   "id": "f0f172f8-7a63-4200-8f6c-52920550885e",
   "metadata": {},
   "outputs": [],
   "source": [
    "import pymc3 as pm \n",
    "import numpy as np\n",
    "np.random.seed(8)\n",
    "\n",
    "q0 = 0.05\n",
    "q1 = 0.18\n",
    "\n",
    "n1 = int(100*0.45)\n",
    "n0 = 100 - n1\n",
    "\n",
    "first = np.random.geometric(q0, size = n0)\n",
    "second = np.random.geometric(q1, size = n1)\n",
    "obs = np.concatenate((first, second), axis=0)\n",
    "\n",
    "alphas = [1,5]\n",
    "betas = [5,1]\n",
    "pi = 0.45\n",
    "\n",
    "with pm.Model() as model:\n",
    "    z = pm.Bernoulli('z', p = pi, shape = len(obs))\n",
    "    q = pm.Beta('q', alpha = alphas, beta = betas, shape = 2)\n",
    "    X = pm.Geometric('x', observed = obs, p = q[z])\n",
    "    \n",
    "    trace = pm.sample(1000, chains = 4)\n",
    "    \n",
    "my_binary_array = np.array([0, 0, 1, 1, 0, 1])\n",
    "my_real_array = np.array ([0.27 ,  0.34])\n",
    "print(my_real_array[my_binary_array ])"
   ]
  },
  {
   "cell_type": "code",
   "execution_count": null,
   "id": "54f0f199-7c2a-4da9-8bfe-284854d196fc",
   "metadata": {},
   "outputs": [],
   "source": [
    "import seaborn as sns\n",
    "\n",
    "factory_0 = [x[0] for x in trace['q']]\n",
    "factory_1 = [x[1] for x in trace['q']]       \n",
    "sns.scatterplot(factory_0, factory_1)"
   ]
  },
  {
   "cell_type": "code",
   "execution_count": null,
   "id": "fd04b79c-32b1-407b-8f0a-dbfac4d9d3e7",
   "metadata": {},
   "outputs": [],
   "source": [
    "# i) \n",
    "np.count_nonzero([sum(x) > 50 for x in trace['z']]) / len(trace['z'])"
   ]
  },
  {
   "cell_type": "code",
   "execution_count": null,
   "id": "34fd493f-fa40-47aa-86d1-b22e2f8a76d4",
   "metadata": {},
   "outputs": [],
   "source": [
    "# ii) \n",
    "np.median(factory_0)"
   ]
  },
  {
   "cell_type": "markdown",
   "id": "cd00745f-94ea-4127-91d8-f9cbc5626891",
   "metadata": {},
   "source": [
    "Question 3a) "
   ]
  },
  {
   "cell_type": "code",
   "execution_count": null,
   "id": "064a8d0f-5e65-449b-98eb-adae78a85923",
   "metadata": {},
   "outputs": [],
   "source": [
    "def domaincheck(x):\n",
    "    if (x<=-0.25 and x>=-1) or (x>=0 and x<=1):\n",
    "        return 1 \n",
    "    else:\n",
    "        return 0\n",
    "\n",
    "def distribution(x):\n",
    "    return np.square(np.cos(12*x)) * (np.abs(np.power(x,3)+(6*x)-2)) * domaincheck(x)\n",
    "\n",
    "\n",
    "q = np.vectorize(distribution)\n",
    "x = np.arange(-1, 1, 0.001) \n",
    "plt.plot(x, q(x), label = 'q(x)', color = 'r')\n",
    "plt.axhline(y = 0.5, label = 'f(x)')\n",
    "plt.legend()\n",
    "plt.show()\n"
   ]
  },
  {
   "cell_type": "code",
   "execution_count": null,
   "id": "d627451a-2561-47db-836c-2fbb9e868f0f",
   "metadata": {},
   "outputs": [],
   "source": [
    "M = 1/(2*max(q(x)))\n",
    "M"
   ]
  },
  {
   "cell_type": "markdown",
   "id": "75067cfa-19c8-4f0e-ba74-7d7d60f42e85",
   "metadata": {},
   "source": [
    "Question 3b) "
   ]
  },
  {
   "cell_type": "code",
   "execution_count": null,
   "id": "936b770d-1294-4d99-bf5d-87b744c6945f",
   "metadata": {},
   "outputs": [],
   "source": [
    "def domaincheck(x):\n",
    "    if (x<=-0.25 and x>=-1) or (x>=0 and x<=1):\n",
    "        return 1 \n",
    "    else:\n",
    "        return 0\n",
    "\n",
    "def distribution(x):\n",
    "    return np.square(np.cos(12*x)) * (np.abs(np.power(x,3)+(18*x)-2)) * domaincheck(x) * 0.025\n",
    "\n",
    "\n",
    "q = np.vectorize(distribution)\n",
    "x = np.arange(-1, 1, 0.001) \n",
    "plt.plot(x, q(x), label = 'h(x) = M q(x)', color = 'r')\n",
    "plt.axhline(y = 0.5, label = 'f(x)')\n",
    "plt.legend()\n",
    "plt.show()"
   ]
  },
  {
   "cell_type": "markdown",
   "id": "f689e7db-1255-416b-9cdf-65f2d341620a",
   "metadata": {},
   "source": [
    "The following equation can be used to solve for Z: $$\n",
    "\\frac{n}{N} \\approx \\frac{\\int_{-1}^1 h(x) d x}{\\int_{-1}^1 f(x) d x}=M \\int_{-1}^1 q(x) d x=\\frac{M}{z} \\int p(x) d x=\\frac{M}{z} .\n",
    "$$\n"
   ]
  },
  {
   "cell_type": "markdown",
   "id": "371bc895-c113-4583-8fdf-999df1d7147b",
   "metadata": {},
   "source": [
    "Question 3c) "
   ]
  },
  {
   "cell_type": "code",
   "execution_count": null,
   "id": "caed772d-978b-4da4-8a3e-046972bc67bc",
   "metadata": {},
   "outputs": [],
   "source": [
    "from scipy.stats import uniform\n",
    "\n",
    "N = 0 \n",
    "n = 0 \n",
    "\n",
    "samples=[]\n",
    "\n",
    "while (n < np.power(10,3)):\n",
    "    xi = uniform.rvs(-1,2)\n",
    "    i = uniform.rvs(0,1)\n",
    "    N += 1\n",
    "    if i <= M * q(xi) / 0.5:\n",
    "        n +=1 \n",
    "        samples.append(xi)\n",
    "    \n",
    "z = (M*N) / n\n",
    "\n",
    "plt.plot(x, z*q(x))\n",
    "plt.hist(samples, density = True, bins = 150)\n",
    "plt.show()"
   ]
  },
  {
   "cell_type": "code",
   "execution_count": null,
   "id": "497fff83-e234-4807-9ed1-b5eee2f59acd",
   "metadata": {},
   "outputs": [],
   "source": [
    "N = 0 \n",
    "n = 0 \n",
    "\n",
    "samples=[]\n",
    "\n",
    "while (n < np.power(10,6)):\n",
    "    xi = uniform.rvs(-1,2)\n",
    "    i = uniform.rvs(0,1)\n",
    "    N += 1\n",
    "    if i <= M * q(xi) / 0.5:\n",
    "        n +=1 \n",
    "        samples.append(xi)\n",
    "\n",
    "z = (M*N) / n\n",
    "\n",
    "plt.plot(x, z*q(x))\n",
    "plt.hist(samples, density = True, bins = 150)\n",
    "plt.show()"
   ]
  },
  {
   "cell_type": "code",
   "execution_count": null,
   "id": "1f48fd7d-34ee-4d5c-a42e-9466fc55bbce",
   "metadata": {},
   "outputs": [],
   "source": []
  }
 ],
 "metadata": {
  "kernelspec": {
   "display_name": "Python 3 (ipykernel)",
   "language": "python",
   "name": "python3"
  },
  "language_info": {
   "codemirror_mode": {
    "name": "ipython",
    "version": 3
   },
   "file_extension": ".py",
   "mimetype": "text/x-python",
   "name": "python",
   "nbconvert_exporter": "python",
   "pygments_lexer": "ipython3",
   "version": "3.9.15"
  }
 },
 "nbformat": 4,
 "nbformat_minor": 5
}
