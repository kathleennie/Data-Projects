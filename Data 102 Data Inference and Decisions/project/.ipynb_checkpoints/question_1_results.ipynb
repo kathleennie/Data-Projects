{
 "cells": [
  {
   "cell_type": "markdown",
   "id": "be28d5fa",
   "metadata": {},
   "source": [
    "# Question 1"
   ]
  },
  {
   "cell_type": "markdown",
   "id": "667f4d59",
   "metadata": {},
   "source": [
    "## How do levels of particulate matter (PM2.5) affect asthma?"
   ]
  },
  {
   "cell_type": "markdown",
   "id": "51bbf6d4",
   "metadata": {},
   "source": [
    "### pm2.5 and Asthma datasets cleanup"
   ]
  },
  {
   "cell_type": "code",
   "execution_count": 1,
   "id": "81bcd8a8",
   "metadata": {},
   "outputs": [],
   "source": [
    "import matplotlib.pyplot as plt\n",
    "import pandas as pd\n",
    "import numpy as np\n",
    "import statsmodels.api as sm"
   ]
  },
  {
   "cell_type": "code",
   "execution_count": 2,
   "id": "9cb057f4",
   "metadata": {},
   "outputs": [],
   "source": [
    "#load datasets \n",
    "asthma_data = pd.read_csv('U.S._Chronic_Disease_Indicators__Asthma.csv')\n",
    "pm25_data = pd.read_csv('Daily_Census_Tract-Level_PM2.5_Concentrations__2011-2014.csv')"
   ]
  },
  {
   "cell_type": "code",
   "execution_count": 3,
   "id": "6e2ec0c0",
   "metadata": {},
   "outputs": [],
   "source": [
    "#clean the asthma datasetn\n",
    "#the dataset to only include YearStart, Location Abbr, StratificationCategoryID1, StratificationID1, DataValueUnit, DataValueType, and DataValue \n",
    "asthma_data = asthma_data[['YearStart', 'LocationDesc', 'LocationAbbr', 'DataValueUnit', \n",
    "                   'DataValueType', 'DataValue', 'StratificationCategoryID1', 'StratificationID1']]\n",
    "#asthma_data.head()"
   ]
  },
  {
   "cell_type": "code",
   "execution_count": 4,
   "id": "44c2de38",
   "metadata": {},
   "outputs": [],
   "source": [
    "#clean the asthma dataset so that..\n",
    "##it only includes the rows that show cases per 10,000\n",
    "##stratification ID1 = Gender\n",
    "##only shows age adjusted rates \n",
    "##data value must be a number\n",
    "\n",
    "asthma_data = asthma_data[asthma_data['DataValueUnit'] == 'cases per 10,000']\n",
    "asthma_data = asthma_data[asthma_data['DataValueType'] == 'Age-adjusted Rate']\n",
    "asthma_data = asthma_data[asthma_data['StratificationCategoryID1'] == 'GENDER']\n",
    "asthma_data = asthma_data[pd.to_numeric(asthma_data['DataValue'], errors='coerce').notnull()]\n"
   ]
  },
  {
   "cell_type": "code",
   "execution_count": 5,
   "id": "bea87294",
   "metadata": {},
   "outputs": [],
   "source": [
    "#include state fips code in asthma dataset\n",
    "\n",
    "##create a FIPS dict\n",
    "fips_dict = {\n",
    "    'Alabama': '01',\n",
    "    'Alaska': '02',\n",
    "    'Arizona': '04',\n",
    "    'Arkansas': '05',\n",
    "    'California': '06',\n",
    "    'Colorado': '08',\n",
    "    'Connecticut': '09',\n",
    "    'Delaware': '10',\n",
    "    'District of Columbia': '11',\n",
    "    'Florida': '12',\n",
    "    'Georgia': '13',\n",
    "    'Hawaii': '15',\n",
    "    'Idaho': '16',\n",
    "    'Illinois': '17',\n",
    "    'Indiana': '18',\n",
    "    'Iowa': '19',\n",
    "    'Kansas': '20',\n",
    "    'Kentucky': '21',\n",
    "    'Louisiana': '22',\n",
    "    'Maine': '23',\n",
    "    'Maryland': '24',\n",
    "    'Massachusetts': '25',\n",
    "    'Michigan': '26',\n",
    "    'Minnesota': '27',\n",
    "    'Mississippi': '28',\n",
    "    'Missouri': '29',\n",
    "    'Montana': '30',\n",
    "    'Nebraska': '31',\n",
    "    'Nevada': '32',\n",
    "    'New Hampshire': '33',\n",
    "    'New Jersey': '34',\n",
    "    'New Mexico': '35',\n",
    "    'New York': '36',\n",
    "    'North Carolina': '37',\n",
    "    'North Dakota': '38',\n",
    "    'Ohio': '39',\n",
    "    'Oklahoma': '40',\n",
    "    'Oregon': '41',\n",
    "    'Pennsylvania': '42',\n",
    "    'Rhode Island': '44',\n",
    "    'South Carolina': '45',\n",
    "    'South Dakota': '46',\n",
    "    'Tennessee': '47',\n",
    "    'Texas': '48',\n",
    "    'Utah': '49',\n",
    "    'Vermont': '50',\n",
    "    'Virginia': '51',\n",
    "    'Washington': '53',\n",
    "    'West Virginia': '54',\n",
    "    'Wisconsin': '55',\n",
    "    'Wyoming': '56'\n",
    "}\n",
    "\n",
    "##map asthma dataset to fips dict\n",
    "asthma_data['FIPS_Code'] = asthma_data['LocationDesc'].map(fips_dict)\n",
    "#asthma_data.head()"
   ]
  },
  {
   "cell_type": "code",
   "execution_count": 6,
   "id": "f51e2219",
   "metadata": {},
   "outputs": [],
   "source": [
    "#only include years 2011 to 2014 in Asthma dataset because that is the only data provided in the pm2.5 dataset\n",
    "asthma_data = asthma_data[(asthma_data['YearStart'] >= 2011) & (asthma_data['YearStart'] <= 2014)]\n",
    "#asthma_data.head()"
   ]
  },
  {
   "cell_type": "code",
   "execution_count": 7,
   "id": "d255280d",
   "metadata": {},
   "outputs": [],
   "source": [
    "#clean asthma dataset to only include what is needed\n",
    "asthma_data = asthma_data.drop(['LocationDesc', 'LocationAbbr', 'DataValueUnit', \n",
    "                                'DataValueType', 'StratificationCategoryID1'], axis = 1)\n"
   ]
  },
  {
   "cell_type": "code",
   "execution_count": 8,
   "id": "0fe380d8",
   "metadata": {},
   "outputs": [],
   "source": [
    "#clean pm2.5 dataset to only include whats needed\n",
    "pm25_data = pm25_data.drop(['date', 'countyfips', 'ctfips', 'latitude', 'longitude', 'year'], axis = 1)"
   ]
  },
  {
   "cell_type": "code",
   "execution_count": 9,
   "id": "dc4a568f",
   "metadata": {},
   "outputs": [
    {
     "data": {
      "text/html": [
       "<div>\n",
       "<style scoped>\n",
       "    .dataframe tbody tr th:only-of-type {\n",
       "        vertical-align: middle;\n",
       "    }\n",
       "\n",
       "    .dataframe tbody tr th {\n",
       "        vertical-align: top;\n",
       "    }\n",
       "\n",
       "    .dataframe thead th {\n",
       "        text-align: right;\n",
       "    }\n",
       "</style>\n",
       "<table border=\"1\" class=\"dataframe\">\n",
       "  <thead>\n",
       "    <tr style=\"text-align: right;\">\n",
       "      <th></th>\n",
       "      <th>statefips</th>\n",
       "      <th>ds_pm_pred</th>\n",
       "      <th>ds_pm_stdd</th>\n",
       "    </tr>\n",
       "  </thead>\n",
       "  <tbody>\n",
       "    <tr>\n",
       "      <th>0</th>\n",
       "      <td>37</td>\n",
       "      <td>13.0652</td>\n",
       "      <td>4.2744</td>\n",
       "    </tr>\n",
       "    <tr>\n",
       "      <th>1</th>\n",
       "      <td>37</td>\n",
       "      <td>12.9526</td>\n",
       "      <td>4.2139</td>\n",
       "    </tr>\n",
       "    <tr>\n",
       "      <th>2</th>\n",
       "      <td>29</td>\n",
       "      <td>13.8699</td>\n",
       "      <td>5.0710</td>\n",
       "    </tr>\n",
       "    <tr>\n",
       "      <th>3</th>\n",
       "      <td>37</td>\n",
       "      <td>12.8842</td>\n",
       "      <td>4.2481</td>\n",
       "    </tr>\n",
       "    <tr>\n",
       "      <th>4</th>\n",
       "      <td>32</td>\n",
       "      <td>8.1347</td>\n",
       "      <td>3.3742</td>\n",
       "    </tr>\n",
       "  </tbody>\n",
       "</table>\n",
       "</div>"
      ],
      "text/plain": [
       "   statefips  ds_pm_pred  ds_pm_stdd\n",
       "0         37     13.0652      4.2744\n",
       "1         37     12.9526      4.2139\n",
       "2         29     13.8699      5.0710\n",
       "3         37     12.8842      4.2481\n",
       "4         32      8.1347      3.3742"
      ]
     },
     "execution_count": 9,
     "metadata": {},
     "output_type": "execute_result"
    }
   ],
   "source": [
    "#prepare df for merging\n",
    "asthma_data['FIPS_Code'] = asthma_data['FIPS_Code'].astype(int)\n",
    "pm25_data['statefips'] = pm25_data['statefips'].astype(int)\n",
    "asthma_data = asthma_data.rename(columns = {'FIPS_Code': 'statefips'})\n",
    "pm25_data.head()"
   ]
  },
  {
   "cell_type": "code",
   "execution_count": null,
   "id": "528d5452",
   "metadata": {},
   "outputs": [],
   "source": [
    "#Merge the data\n",
    "merged_df = asthma_data.merge(pm25_data, on = (\"statefips\"), how = \"left\")\n",
    "merged_df = merged_df[pd.to_numeric(merged_df['ds_pm_pred'], errors='coerce').notnull()]\n"
   ]
  },
  {
   "cell_type": "code",
   "execution_count": 11,
   "id": "86e1b857",
   "metadata": {},
   "outputs": [],
   "source": [
    "#convert datasets to csv due to lack of memory \n",
    "merged_df.to_csv('Asthma and PM2.5.csv', index=False)\n",
    "asthma_data.to_csv(\"Asthma Cleaned Data.csv\", index = False)"
   ]
  }
 ],
 "metadata": {
  "kernelspec": {
   "display_name": "Python 3 (ipykernel)",
   "language": "python",
   "name": "python3"
  },
  "language_info": {
   "codemirror_mode": {
    "name": "ipython",
    "version": 3
   },
   "file_extension": ".py",
   "mimetype": "text/x-python",
   "name": "python",
   "nbconvert_exporter": "python",
   "pygments_lexer": "ipython3",
   "version": "3.9.15"
  }
 },
 "nbformat": 4,
 "nbformat_minor": 5
}
